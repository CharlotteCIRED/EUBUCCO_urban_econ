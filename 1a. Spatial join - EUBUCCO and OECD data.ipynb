{
 "cells": [
  {
   "attachments": {},
   "cell_type": "markdown",
   "metadata": {},
   "source": [
    "# Spatial join - EUBUCCO and OECD data"
   ]
  },
  {
   "cell_type": "code",
   "execution_count": 1,
   "metadata": {},
   "outputs": [],
   "source": [
    "import psycopg2\n",
    "from sshtunnel import SSHTunnelForwarder\n",
    "import geopandas as gpd\n",
    "import pandas as pd\n",
    "from contextlib import contextmanager\n",
    "import paramiko\n",
    "import io\n",
    "import os\n",
    "from os import listdir\n",
    "import numpy as np\n"
   ]
  },
  {
   "attachments": {},
   "cell_type": "markdown",
   "metadata": {},
   "source": [
    "## Import OECD FUA boundaries"
   ]
  },
  {
   "cell_type": "code",
   "execution_count": 2,
   "metadata": {},
   "outputs": [],
   "source": [
    "path_folder = 'C:/Users/charl/OneDrive/Bureau/EUBUCCO/'\n",
    "path_FUA_OECD = path_folder + \"Data/FUA_OECD/\"\n",
    "oecd_countries = listdir(path_FUA_OECD)\n",
    "FUA_OECD = gpd.read_file(path_FUA_OECD + \"AUT/AUT_core_commuting.shp\")\n",
    "FUA_OECD = FUA_OECD.to_crs('epsg:3035')\n",
    "for country in oecd_countries[1:24]:\n",
    "    df2 = gpd.read_file(path_FUA_OECD + country + \"/\" +\n",
    "                        country + \"_core_commuting.shp\")\n",
    "    df2 = df2.to_crs('epsg:3035')\n",
    "    FUA_OECD = gpd.GeoDataFrame(pd.concat([FUA_OECD, df2], ignore_index=True))"
   ]
  },
  {
   "attachments": {},
   "cell_type": "markdown",
   "metadata": {},
   "source": [
    "## Connect to server"
   ]
  },
  {
   "cell_type": "code",
   "execution_count": 6,
   "metadata": {},
   "outputs": [],
   "source": [
    "with open('<ssh-key>', 'r') as f:\n",
    "    key = f.read()\n",
    "    pkey = paramiko.RSAKey.from_private_key(io.StringIO(key))\n"
   ]
  },
  {
   "cell_type": "code",
   "execution_count": 7,
   "metadata": {},
   "outputs": [],
   "source": [
    "@contextmanager\n",
    "def db_tunnel():\n",
    "    with SSHTunnelForwarder(('194.163.151.34', 22), ssh_username='<username>', remote_bind_address=('172.30.0.4', 5432), ssh_pkey=pkey) as server:\n",
    "\n",
    "        server.start()\n",
    "\n",
    "        params = {\n",
    "            'database': 'eubucco',\n",
    "            'user': '<user>',\n",
    "            'password': '<password>',\n",
    "            'host': 'localhost',\n",
    "            'port': server.local_bind_port,\n",
    "            'connect_timeout': 10,\n",
    "        }\n",
    "\n",
    "        conn = psycopg2.connect(**params)\n",
    "        conn.set_session(readonly=True)\n",
    "\n",
    "        yield conn\n"
   ]
  },
  {
   "attachments": {},
   "cell_type": "markdown",
   "metadata": {},
   "source": [
    "## Retrieve data - spatial join"
   ]
  },
  {
   "cell_type": "code",
   "execution_count": 8,
   "metadata": {},
   "outputs": [
    {
     "name": "stdout",
     "output_type": "stream",
     "text": [
      "Uppsala\n"
     ]
    }
   ],
   "source": [
    "with db_tunnel() as conn:\n",
    "    for i in range(647,648):\n",
    "        print(FUA_OECD.iloc[i].fuaname)\n",
    "        boundary = FUA_OECD.iloc[i].geometry\n",
    "        #boundary = 'POLYGON ((3762754.4419298171997070 2890991.8044788637198508, 3764095.9635624778456986 2888187.3515811231918633, 3761960.7702519670128822 2888983.4717874415218830, 3761945.1074829874560237 2889266.3062656684778631, 3761744.4274468249641359 2890595.5182541240938008, 3762754.4419298171997070 2890991.8044788637198508))'\n",
    "        id_code = FUA_OECD.iloc[i].fuacode\n",
    "        sql = f\"\"\"\n",
    "            select bu.id, bu.id_source, bc.name as country, br.name as region, b.name as city, bu.height, bu.age, bu.type, bu.type_source, bu.geometry\n",
    "                from data_building as bu\n",
    "                    RIGHT OUTER JOIN data_country bc on bu.country_id = bc.id\n",
    "                    RIGHT OUTER JOIN data_region br on br.id = bu.region_id\n",
    "                    RIGHT OUTER JOIN data_city b on b.id = bu.city_id\n",
    "                WHERE ST_Within( bu.geometry, 'SRID=3035;{boundary}');\n",
    "        \"\"\"\n",
    "\n",
    "        result = gpd.GeoDataFrame.from_postgis(\n",
    "            sql=sql,\n",
    "            con=conn,\n",
    "            geom_col='geometry',\n",
    "            index_col='id',\n",
    "        )\n",
    "\n",
    "        #results.append(result)\n",
    "        result.to_file(path_folder + \"Data/EUBUCCO_by_OECD_FUA_v2/\" + id_code + '.shp')\n",
    "        #result\n",
    "    #data = pd.concat(results)\n"
   ]
  },
  {
   "cell_type": "code",
   "execution_count": 9,
   "metadata": {},
   "outputs": [
    {
     "name": "stdout",
     "output_type": "stream",
     "text": [
      "                                  id_source country   region        city  \\\n",
      "id                                                                         \n",
      "v0.1-SWE.16.1_1-1479   sweden-latest1508502  Sweden  Uppsala  Älvkarleby   \n",
      "v0.1-SWE.16.6_1-833    sweden-latest1508307  Sweden  Uppsala       Tierp   \n",
      "v0.1-SWE.16.6_1-834    sweden-latest1508308  Sweden  Uppsala       Tierp   \n",
      "v0.1-SWE.16.6_1-835    sweden-latest1508309  Sweden  Uppsala       Tierp   \n",
      "v0.1-SWE.16.6_1-836    sweden-latest1508310  Sweden  Uppsala       Tierp   \n",
      "...                                     ...     ...      ...         ...   \n",
      "v0.1-SWE.16.7_1-22913   sweden-latest616248  Sweden  Uppsala     Uppsala   \n",
      "v0.1-SWE.16.7_1-22914   sweden-latest616249  Sweden  Uppsala     Uppsala   \n",
      "v0.1-SWE.16.7_1-23512   sweden-latest617216  Sweden  Uppsala     Uppsala   \n",
      "v0.1-SWE.16.7_1-23513   sweden-latest617217  Sweden  Uppsala     Uppsala   \n",
      "v0.1-SWE.16.7_1-23929   sweden-latest629488  Sweden  Uppsala     Uppsala   \n",
      "\n",
      "                       height  age type type_source  \\\n",
      "id                                                    \n",
      "v0.1-SWE.16.1_1-1479      NaN  NaN   UN               \n",
      "v0.1-SWE.16.6_1-833       NaN  NaN   UN               \n",
      "v0.1-SWE.16.6_1-834       NaN  NaN   UN               \n",
      "v0.1-SWE.16.6_1-835       NaN  NaN   UN               \n",
      "v0.1-SWE.16.6_1-836       NaN  NaN   UN               \n",
      "...                       ...  ...  ...         ...   \n",
      "v0.1-SWE.16.7_1-22913     NaN  NaN   UN               \n",
      "v0.1-SWE.16.7_1-22914     NaN  NaN   UN               \n",
      "v0.1-SWE.16.7_1-23512     NaN  NaN   UN               \n",
      "v0.1-SWE.16.7_1-23513     NaN  NaN   UN               \n",
      "v0.1-SWE.16.7_1-23929     NaN  NaN   UN               \n",
      "\n",
      "                                                                geometry  \n",
      "id                                                                        \n",
      "v0.1-SWE.16.1_1-1479   POLYGON ((4726910.929 4172218.290, 4726913.739...  \n",
      "v0.1-SWE.16.6_1-833    POLYGON ((4725323.459 4169608.666, 4725324.829...  \n",
      "v0.1-SWE.16.6_1-834    POLYGON ((4725151.355 4169574.833, 4725150.847...  \n",
      "v0.1-SWE.16.6_1-835    POLYGON ((4725165.052 4169594.661, 4725164.678...  \n",
      "v0.1-SWE.16.6_1-836    POLYGON ((4725180.887 4169607.165, 4725180.391...  \n",
      "...                                                                  ...  \n",
      "v0.1-SWE.16.7_1-22913  POLYGON ((4763311.494 4098865.212, 4763316.107...  \n",
      "v0.1-SWE.16.7_1-22914  POLYGON ((4763294.962 4098874.539, 4763297.814...  \n",
      "v0.1-SWE.16.7_1-23512  POLYGON ((4763378.384 4098910.473, 4763385.242...  \n",
      "v0.1-SWE.16.7_1-23513  POLYGON ((4763403.087 4098883.462, 4763410.010...  \n",
      "v0.1-SWE.16.7_1-23929  POLYGON ((4763823.005 4098288.511, 4763823.862...  \n",
      "\n",
      "[69777 rows x 9 columns]\n"
     ]
    }
   ],
   "source": [
    "print(result)"
   ]
  }
 ],
 "metadata": {
  "kernelspec": {
   "display_name": "geo_env",
   "language": "python",
   "name": "python3"
  },
  "language_info": {
   "codemirror_mode": {
    "name": "ipython",
    "version": 3
   },
   "file_extension": ".py",
   "mimetype": "text/x-python",
   "name": "python",
   "nbconvert_exporter": "python",
   "pygments_lexer": "ipython3",
   "version": "3.9.16"
  },
  "orig_nbformat": 4,
  "vscode": {
   "interpreter": {
    "hash": "187a913d41fabaf5a317c69d17ff3ecd71278ec4b104b70cd5206acc4c49cf4d"
   }
  }
 },
 "nbformat": 4,
 "nbformat_minor": 2
}
